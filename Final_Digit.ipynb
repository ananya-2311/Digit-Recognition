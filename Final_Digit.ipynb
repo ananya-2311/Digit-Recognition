{
  "nbformat": 4,
  "nbformat_minor": 0,
  "metadata": {
    "colab": {
      "name": "Final_Digit.ipynb",
      "provenance": [],
      "collapsed_sections": [],
      "authorship_tag": "ABX9TyOSCtvG8XxPGiJGPL39odHP",
      "include_colab_link": true
    },
    "kernelspec": {
      "name": "python3",
      "display_name": "Python 3"
    },
    "language_info": {
      "name": "python"
    }
  },
  "cells": [
    {
      "cell_type": "markdown",
      "metadata": {
        "id": "view-in-github",
        "colab_type": "text"
      },
      "source": [
        "<a href=\"https://colab.research.google.com/github/ananya-2311/Digit-Recognition/blob/main/Final_Digit.ipynb\" target=\"_parent\"><img src=\"https://colab.research.google.com/assets/colab-badge.svg\" alt=\"Open In Colab\"/></a>"
      ]
    },
    {
      "cell_type": "code",
      "metadata": {
        "colab": {
          "base_uri": "https://localhost:8080/"
        },
        "id": "elSvOfz4AWpz",
        "outputId": "a5920d13-f299-4b90-ad31-f38fc8fb3a56"
      },
      "source": [
        "import tensorflow as tf\n",
        "import matplotlib.pyplot as plt\n",
        "import keras\n",
        "import keras\n",
        "from keras.datasets import mnist\n",
        "#from keras.layers import Sequential\n",
        "from keras.layers import Dense\n",
        "from keras.layers import Dropout\n",
        "from keras.layers import Flatten\n",
        "from keras.layers.convolutional import Convolution2D\n",
        "from keras.layers.convolutional import MaxPooling2D\n",
        "from keras import backend as K\n",
        "\n",
        "# importing dataset\n",
        "mnist = tf.keras.datasets.mnist\n",
        "\n",
        "# Splitting Dataset\n",
        "(X_train, y_train), (X_test, y_test) = mnist.load_data()\n",
        "X_train = X_train.reshape(X_train.shape[0], 28, 28, 1).astype('float32')\n",
        "X_test = X_test.reshape(X_test.shape[0], 28, 28, 1).astype('float32')\n",
        "\n",
        "\n",
        "# Normalization\n",
        "X_train = tf.keras.utils.normalize(X_train, axis=1)\n",
        "X_test = tf.keras.utils.normalize(X_test, axis=1)\n",
        "\n",
        "\n",
        "\n",
        "# Training Model\n",
        "def create_model():\n",
        "    num_classes = 10;\n",
        "    model = tf.keras.models.Sequential()\n",
        "    model.add(Convolution2D(32, kernel_size=(3, 3), activation='relu'))\n",
        "    model.add(MaxPooling2D(pool_size=(2, 2)))\n",
        "    model.add(Convolution2D(64, (3, 3), activation='relu'))\n",
        "    model.add(MaxPooling2D(pool_size=(2, 2)))\n",
        "    model.add(Dropout(0.25))\n",
        "    model.add(Flatten())\n",
        "    model.add(Dense(256, activation='relu'))\n",
        "    model.add(Dense(128, activation ='relu'))\n",
        "    model.add(Dense(64, activation ='relu'))\n",
        "    model.add(Dropout(0.5))\n",
        "    model.add(Dense(num_classes, activation='softmax'))\n",
        "    model.compile(loss='sparse_categorical_crossentropy', optimizer='adam', metrics=['accuracy'])\n",
        "    return model\n",
        "\n",
        "\n",
        "model = create_model()\n",
        "model.fit(X_train,y_train,validation_data=(X_test,y_test), epochs=10 , batch_size=200, verbose=1)\n",
        "print(\"The model is successfully trained\")\n",
        "\"\"\"\n",
        "model = tf.keras.models.Sequential()\n",
        "model.add(tf.keras.layers.Flatten())  # Flattening (28,28) --> 28*28\n",
        "model.add(tf.keras.layers.Dense(256, activation=tf.nn.relu))  # Hidden Layer 1 with 256 units\n",
        "model.add(tf.keras.layers.Dense(256, activation=tf.nn.relu))  # Hidden Layer 2 with 256 units\n",
        "model.add(tf.keras.layers.Dense(256, activation=tf.nn.relu))  # Hidden Layer 3 with 256 units\n",
        "# model.add(tf.keras.layers.Dense(256,activation = tf.nn.relu))\n",
        "# model.add(tf.keras.layers.Dense(256,activation = tf.nn.relu))\n",
        "model.add(tf.keras.layers.Dense(10, activation=tf.nn.softmax))  # Final Layer with softmax activation\n",
        "model.compile(optimizer='adam',\n",
        "              loss='sparse_categorical_crossentropy',\n",
        "              metrics=['accuracy'])\n",
        "model.fit(X_train, y_train, epochs=5)\n",
        "print(\"The model has successfully trained\")\n",
        "\"\"\"\n",
        "\n",
        "# Saving Model\n",
        "model.save('mnist.h5')\n",
        "print(\"Saving the model as mnist.h5\")\n",
        "loss, acc = model.evaluate(X_test, y_test)\n",
        "print(loss)\n",
        "print(acc)\n"
      ],
      "execution_count": 2,
      "outputs": [
        {
          "output_type": "stream",
          "name": "stdout",
          "text": [
            "Epoch 1/10\n",
            "300/300 [==============================] - 48s 159ms/step - loss: 0.4528 - accuracy: 0.8600 - val_loss: 0.0916 - val_accuracy: 0.9700\n",
            "Epoch 2/10\n",
            "300/300 [==============================] - 48s 159ms/step - loss: 0.1234 - accuracy: 0.9667 - val_loss: 0.0566 - val_accuracy: 0.9825\n",
            "Epoch 3/10\n",
            "300/300 [==============================] - 47s 158ms/step - loss: 0.0861 - accuracy: 0.9771 - val_loss: 0.0452 - val_accuracy: 0.9859\n",
            "Epoch 4/10\n",
            "300/300 [==============================] - 47s 158ms/step - loss: 0.0664 - accuracy: 0.9825 - val_loss: 0.0350 - val_accuracy: 0.9888\n",
            "Epoch 5/10\n",
            "300/300 [==============================] - 47s 157ms/step - loss: 0.0520 - accuracy: 0.9869 - val_loss: 0.0333 - val_accuracy: 0.9889\n",
            "Epoch 6/10\n",
            "300/300 [==============================] - 47s 158ms/step - loss: 0.0448 - accuracy: 0.9883 - val_loss: 0.0305 - val_accuracy: 0.9907\n",
            "Epoch 7/10\n",
            "300/300 [==============================] - 48s 159ms/step - loss: 0.0365 - accuracy: 0.9902 - val_loss: 0.0321 - val_accuracy: 0.9912\n",
            "Epoch 8/10\n",
            "300/300 [==============================] - 48s 159ms/step - loss: 0.0327 - accuracy: 0.9911 - val_loss: 0.0282 - val_accuracy: 0.9917\n",
            "Epoch 9/10\n",
            "300/300 [==============================] - 47s 158ms/step - loss: 0.0316 - accuracy: 0.9914 - val_loss: 0.0401 - val_accuracy: 0.9902\n",
            "Epoch 10/10\n",
            "300/300 [==============================] - 47s 158ms/step - loss: 0.0267 - accuracy: 0.9926 - val_loss: 0.0309 - val_accuracy: 0.9917\n",
            "The model is successfully trained\n",
            "Saving the model as mnist.h5\n",
            "313/313 [==============================] - 3s 10ms/step - loss: 0.0309 - accuracy: 0.9917\n",
            "0.030906137079000473\n",
            "0.9916999936103821\n"
          ]
        }
      ]
    },
    {
      "cell_type": "code",
      "metadata": {
        "id": "XtkwLnDtAZDA"
      },
      "source": [
        "import tensorflow as tf\n",
        "from keras.models import load_model\n",
        "import cv2\n",
        "import numpy as np\n",
        "\n",
        "\n",
        "classes = [0, 1, 2, 3, 4, 5, 6, 7, 8, 9]\n",
        "\n",
        "model = tf.keras.models.load_model('mnist.h5')\n",
        "\n",
        "\n",
        "def testing():\n",
        "    img = cv2.imread('image.png', 0)\n",
        "    img = cv2.bitwise_not(img)\n",
        "    # cv2.imshow('img',img)\n",
        "    img = cv2.resize(img, (28, 28))\n",
        "    img = img.reshape(1, 28, 28, 1)\n",
        "    img = img.astype('float32')\n",
        "    img = img / 255.0\n",
        "\n",
        "    pred = model.predict(img)\n",
        "    return pred\n"
      ],
      "execution_count": null,
      "outputs": []
    },
    {
      "cell_type": "code",
      "metadata": {
        "colab": {
          "base_uri": "https://localhost:8080/",
          "height": 356
        },
        "id": "W0ukAxFsHhIP",
        "outputId": "8974380a-b494-4e98-9732-11645e8fffac"
      },
      "source": [
        "import numpy as np\n",
        "from PIL import ImageTk, Image, ImageDraw\n",
        "import PIL\n",
        "import tkinter as tk\n",
        "from tkinter import *\n",
        "import matplotlib\n",
        "import sys\n",
        "import os\n",
        "if os.environ.get('DISPLAY','') == '':\n",
        "    print('no display found. Using :0.0')\n",
        "    os.environ.__setitem__('DISPLAY', ':0.0')\n",
        "\n",
        "#import support_gui\n",
        "#from support_gui import testing\n",
        "\n",
        "\n",
        "classes = [0, 1, 2, 3, 4, 5, 6, 7, 8, 9]\n",
        "width = 500\n",
        "height = 500\n",
        "center = height // 2\n",
        "white = (255, 255, 255)\n",
        "green = (0, 128, 0)\n",
        "\n",
        "\n",
        "def paint(event):\n",
        "    x1, y1 = (event.x - 10), (event.y - 10)\n",
        "    x2, y2 = (event.x + 10), (event.y + 10)\n",
        "    cv.create_oval(x1, y1, x2, y2, fill=\"black\", width=40)\n",
        "    draw.line([x1, y1, x2, y2], fill=\"black\", width=40)\n",
        "\n",
        "\n",
        "def model():\n",
        "    filename = \"image.png\"\n",
        "    image1.save(filename)\n",
        "    pred = testing()\n",
        "    print('argmax', np.argmax(pred[0]), '\\n',\n",
        "          pred[0][np.argmax(pred[0])], '\\n', classes[np.argmax(pred[0])])\n",
        "    txt.insert(tk.INSERT,\n",
        "               \"{}\\nAccuracy: {}%\".format(classes[np.argmax(pred[0])], round(pred[0][np.argmax(pred[0])] * 100, 3)))\n",
        "\n",
        "\n",
        "def clear():\n",
        "    cv.delete('all')\n",
        "    draw.rectangle((0, 0, 500, 500), fill=(255, 255, 255, 0))\n",
        "    txt.delete('1.0', END)\n",
        "\n",
        "\n",
        "root = Tk()\n",
        "##root.geometry('1000x500')\n",
        "\n",
        "root.resizable(0, 0)\n",
        "cv = Canvas(root, width=width, height=height, bg='white')\n",
        "cv.pack()\n",
        "\n",
        "# PIL create an empty image and draw object to draw on\n",
        "# memory only, not visible\n",
        "image1 = PIL.Image.new(\"RGB\", (width, height), white)\n",
        "draw = ImageDraw.Draw(image1)\n",
        "\n",
        "txt = tk.Text(root, bd=3, exportselection=0, bg='WHITE', font='Helvetica',\n",
        "              padx=10, pady=10, height=5, width=20)\n",
        "\n",
        "cv.pack(expand=YES, fill=BOTH)\n",
        "cv.bind(\"<B1-Motion>\", paint)\n",
        "\n",
        "# button=Button(text=\"save\",command=save)\n",
        "btnModel = Button(text=\"Predict\", command=model)\n",
        "btnClear = Button(text=\"clear\", command=clear)\n",
        "# button.pack()\n",
        "btnModel.pack()\n",
        "btnClear.pack()\n",
        "txt.pack()\n",
        "root.title('digit recognizer')\n",
        "root.mainloop()\n"
      ],
      "execution_count": null,
      "outputs": [
        {
          "output_type": "error",
          "ename": "TclError",
          "evalue": "ignored",
          "traceback": [
            "\u001b[0;31m---------------------------------------------------------------------------\u001b[0m",
            "\u001b[0;31mTclError\u001b[0m                                  Traceback (most recent call last)",
            "\u001b[0;32m<ipython-input-18-e4295ffd78f7>\u001b[0m in \u001b[0;36m<module>\u001b[0;34m()\u001b[0m\n\u001b[1;32m     46\u001b[0m \u001b[0;34m\u001b[0m\u001b[0m\n\u001b[1;32m     47\u001b[0m \u001b[0;34m\u001b[0m\u001b[0m\n\u001b[0;32m---> 48\u001b[0;31m \u001b[0mroot\u001b[0m \u001b[0;34m=\u001b[0m \u001b[0mTk\u001b[0m\u001b[0;34m(\u001b[0m\u001b[0;34m)\u001b[0m\u001b[0;34m\u001b[0m\u001b[0;34m\u001b[0m\u001b[0m\n\u001b[0m\u001b[1;32m     49\u001b[0m \u001b[0;31m##root.geometry('1000x500')\u001b[0m\u001b[0;34m\u001b[0m\u001b[0;34m\u001b[0m\u001b[0;34m\u001b[0m\u001b[0m\n\u001b[1;32m     50\u001b[0m \u001b[0;34m\u001b[0m\u001b[0m\n",
            "\u001b[0;32m/usr/lib/python3.7/tkinter/__init__.py\u001b[0m in \u001b[0;36m__init__\u001b[0;34m(self, screenName, baseName, className, useTk, sync, use)\u001b[0m\n\u001b[1;32m   2021\u001b[0m                 \u001b[0mbaseName\u001b[0m \u001b[0;34m=\u001b[0m \u001b[0mbaseName\u001b[0m \u001b[0;34m+\u001b[0m \u001b[0mext\u001b[0m\u001b[0;34m\u001b[0m\u001b[0;34m\u001b[0m\u001b[0m\n\u001b[1;32m   2022\u001b[0m         \u001b[0minteractive\u001b[0m \u001b[0;34m=\u001b[0m \u001b[0;36m0\u001b[0m\u001b[0;34m\u001b[0m\u001b[0;34m\u001b[0m\u001b[0m\n\u001b[0;32m-> 2023\u001b[0;31m         \u001b[0mself\u001b[0m\u001b[0;34m.\u001b[0m\u001b[0mtk\u001b[0m \u001b[0;34m=\u001b[0m \u001b[0m_tkinter\u001b[0m\u001b[0;34m.\u001b[0m\u001b[0mcreate\u001b[0m\u001b[0;34m(\u001b[0m\u001b[0mscreenName\u001b[0m\u001b[0;34m,\u001b[0m \u001b[0mbaseName\u001b[0m\u001b[0;34m,\u001b[0m \u001b[0mclassName\u001b[0m\u001b[0;34m,\u001b[0m \u001b[0minteractive\u001b[0m\u001b[0;34m,\u001b[0m \u001b[0mwantobjects\u001b[0m\u001b[0;34m,\u001b[0m \u001b[0museTk\u001b[0m\u001b[0;34m,\u001b[0m \u001b[0msync\u001b[0m\u001b[0;34m,\u001b[0m \u001b[0muse\u001b[0m\u001b[0;34m)\u001b[0m\u001b[0;34m\u001b[0m\u001b[0;34m\u001b[0m\u001b[0m\n\u001b[0m\u001b[1;32m   2024\u001b[0m         \u001b[0;32mif\u001b[0m \u001b[0museTk\u001b[0m\u001b[0;34m:\u001b[0m\u001b[0;34m\u001b[0m\u001b[0;34m\u001b[0m\u001b[0m\n\u001b[1;32m   2025\u001b[0m             \u001b[0mself\u001b[0m\u001b[0;34m.\u001b[0m\u001b[0m_loadtk\u001b[0m\u001b[0;34m(\u001b[0m\u001b[0;34m)\u001b[0m\u001b[0;34m\u001b[0m\u001b[0;34m\u001b[0m\u001b[0m\n",
            "\u001b[0;31mTclError\u001b[0m: couldn't connect to display \":0.0\""
          ]
        }
      ]
    },
    {
      "cell_type": "code",
      "metadata": {
        "id": "EQOYbR_BHmdV"
      },
      "source": [
        ""
      ],
      "execution_count": null,
      "outputs": []
    }
  ]
}